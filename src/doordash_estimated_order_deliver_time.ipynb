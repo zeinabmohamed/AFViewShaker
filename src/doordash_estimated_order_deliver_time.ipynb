{
  "nbformat": 4,
  "nbformat_minor": 0,
  "metadata": {
    "colab": {
      "name": "doordash_estimated_order_deliver_time.ipynb",
      "private_outputs": true,
      "provenance": [],
      "authorship_tag": "ABX9TyO0HNSPQDQyHQvtEz7NQRQP",
      "include_colab_link": true
    },
    "kernelspec": {
      "name": "python3",
      "display_name": "Python 3"
    },
    "language_info": {
      "name": "python"
    }
  },
  "cells": [
    {
      "cell_type": "markdown",
      "metadata": {
        "id": "view-in-github",
        "colab_type": "text"
      },
      "source": [
        "<a href=\"https://colab.research.google.com/github/zeinabmohamed/AFViewShaker/blob/master/src/doordash_estimated_order_deliver_time.ipynb\" target=\"_parent\"><img src=\"https://colab.research.google.com/assets/colab-badge.svg\" alt=\"Open In Colab\"/></a>"
      ]
    },
    {
      "cell_type": "markdown",
      "source": [
        "# Problem details"
      ],
      "metadata": {
        "id": "zKcEbTswuv4Y"
      }
    },
    {
      "cell_type": "markdown",
      "source": [
        "Problem description"
      ],
      "metadata": {
        "id": "17uvANXZpfJW"
      }
    },
    {
      "cell_type": "markdown",
      "source": [
        "Delivery time prediction has long been a part of city logistics, It is important for customer satisfaction that the initial prediction is highly accurate and that any delays are communicated effectively."
      ],
      "metadata": {
        "id": "gVzNtTKTnr_g"
      }
    },
    {
      "cell_type": "markdown",
      "source": [
        "Data description:\n",
        "\n",
        "The attached file `historical_data.csv` contains a subset of deliveries received at DoorDash in early 2015 in a subset of the cities. Each row in this file corresponds to one unique delivery.\n",
        "\n",
        "Note:\n",
        "*   **all money (cents dollar) values**\n",
        "*   **all time duration values given are in seconds**\n",
        "\n",
        "The target value to predict here is the total seconds value between `created_at` and `actual_delivery_time`."
      ],
      "metadata": {
        "id": "hW_txvRAph3i"
      }
    },
    {
      "cell_type": "markdown",
      "source": [
        "\n",
        "market_id: \n",
        "`A city/region in which DoorDash operates, e.g., Los Angeles, given in the data as an id`\n",
        "\n",
        "created_at:\n",
        "` Timestamp in UTC when the order was submitted by the consumer to DoorDash. (Note this timestamp is in UTC, but in case you need it, the actual timezone of the region was US/Pacific)`\n",
        "\n",
        "actual_delivery_time: \n",
        "`Timestamp in UTC when the order was delivered to the consumer`\n",
        "\n",
        "store_id: an \n",
        "`id representing the restaurant the order was submitted for`\n",
        "\n",
        "store_primary_category: \n",
        "`cuisine category of the restaurant, e.g., italian, asian`\n",
        "\n",
        "order_protocol:\n",
        "📣`a store can receive orders from DoorDash through many modes. This field represents an id denoting the protocol`\n",
        "\n",
        "\n",
        "total_items: `total number of items in the order`\n",
        "\n",
        "subtotal: `total value of the order submitted (in cents)`\n",
        "\n",
        "num_distinct_items: `number of distinct items included in the order`\n",
        "\n",
        "min_item_price: `price of the item with the least cost in the order (in cents)`\n",
        "\n",
        "max_item_price: `price of the item with the highest cost in the order (in cents)`\n",
        "\n",
        "total_onshift_dashers: \n",
        "`Number of available dashers who are within 10 miles of the store at the time of order creation` \n",
        "\n",
        "total_busy_dashers:\n",
        "`Subset of above **total_onshift_dashers** who are currently working on an order.`\n",
        "\n",
        "\n",
        "total_outstanding_orders: \n",
        "`Number of orders within 10 miles of this order that are currently being processed.`\n",
        "\n"
      ],
      "metadata": {
        "id": "FL8dbUripkNH"
      }
    },
    {
      "cell_type": "markdown",
      "source": [
        "# Read the data"
      ],
      "metadata": {
        "id": "-GQi-OaQu_0n"
      }
    },
    {
      "cell_type": "code",
      "source": [
        ""
      ],
      "metadata": {
        "id": "nw1TcWwzthk7"
      },
      "execution_count": null,
      "outputs": []
    }
  ]
}